{
 "cells": [
  {
   "cell_type": "code",
   "execution_count": 1,
   "metadata": {
    "collapsed": true
   },
   "outputs": [],
   "source": [
    "import pandas as pd"
   ]
  },
  {
   "cell_type": "code",
   "execution_count": 2,
   "metadata": {
    "collapsed": true
   },
   "outputs": [],
   "source": [
    "raw_data=pd.read_csv(\"./datasets/sudoku.csv\")"
   ]
  },
  {
   "cell_type": "code",
   "execution_count": 3,
   "metadata": {
    "collapsed": true
   },
   "outputs": [],
   "source": [
    "first_puzzle = list(raw_data[\"quizzes\"][0])\n",
    "first_answer = list(raw_data[\"solutions\"][0])"
   ]
  },
  {
   "cell_type": "code",
   "execution_count": 4,
   "metadata": {
    "collapsed": true
   },
   "outputs": [],
   "source": [
    "full_set = {'0', '1', '2', '3', '4', '5', '6', '7','8','9'}\n",
    "\n",
    "def get_puzzle (puzzle_number):\n",
    "    return(list(raw_data[\"quizzes\"][puzzle_number]))\n",
    "def get_answer (answer_number):\n",
    "    return(list(raw_data[\"solutions\"][answer_number]))\n",
    "\n",
    "\n",
    "def extract_row (puzzle,row):\n",
    "    assert len(puzzle) == 81\n",
    "    assert row in range(0,9)\n",
    "    return(puzzle[9*row:9*row+9])\n",
    "\n",
    "def extract_col (puzzle,col):\n",
    "    assert len(puzzle) == 81\n",
    "    assert col in range(0,9)\n",
    "    return(puzzle[col::9])\n",
    "\n",
    "def calculate_position (row,col):\n",
    "    assert row in range(0,9)\n",
    "    assert col in range(0,9)\n",
    "    return (row*9+col)\n",
    "    \n",
    "\n",
    "def extract_box (puzzle,row,col):\n",
    "    assert len(puzzle) == 81\n",
    "    assert row in range(0,9)\n",
    "    assert col in range(0,9)\n",
    "    start = (row//3*3,col//3*3)\n",
    "    output = []\n",
    "    for i in range(start[0],start[0]+3):\n",
    "        for j in range(start[1],start[1]+3):\n",
    "            output+=[puzzle[calculate_position(i,j)]]\n",
    "    return(output)\n",
    "\n",
    "def solve_square(puzzle,row,col):\n",
    "    r=extract_row(puzzle,row)\n",
    "    c=extract_col(puzzle,col)\n",
    "    b=extract_box(puzzle,row,col)\n",
    "    unique = set(list(r)+list(c)+b)\n",
    "    answer = full_set - unique\n",
    "    if len(answer) == 1:\n",
    "        return list(answer)[0]\n",
    "    else:\n",
    "        return '0'\n",
    "    \n",
    "def solve_square_set(puzzle,row,col):\n",
    "    r=extract_row(puzzle,0)\n",
    "    c=extract_col(puzzle,0)\n",
    "    b=extract_box(puzzle,0,0)\n",
    "    unique = set(list(r)+list(c)+b)\n",
    "    answer = full_set - unique\n",
    "    return(answer)"
   ]
  },
  {
   "cell_type": "code",
   "execution_count": 5,
   "metadata": {},
   "outputs": [],
   "source": [
    "def main(puzzle):\n",
    "    while True:\n",
    "        for row in range(0,9):\n",
    "            for col in range(0,9):\n",
    "                if puzzle[calculate_position(row,col)] == \"0\":\n",
    "                    puzzle[calculate_position(row,col)] = solve_square(puzzle,row,col)\n",
    "        if sum([int(x) for x in puzzle]) == 405:\n",
    "            return(puzzle)\n",
    "            break        "
   ]
  },
  {
   "cell_type": "code",
   "execution_count": 6,
   "metadata": {},
   "outputs": [],
   "source": [
    "ans = main(get_puzzle(0))"
   ]
  },
  {
   "cell_type": "code",
   "execution_count": 7,
   "metadata": {},
   "outputs": [
    {
     "name": "stdout",
     "output_type": "stream",
     "text": [
      "['8', '6', '4', '3', '7', '1', '2', '5', '9']\n",
      "['3', '2', '5', '8', '4', '9', '7', '6', '1']\n",
      "['9', '7', '1', '2', '6', '5', '8', '4', '3']\n",
      "['4', '3', '6', '1', '9', '2', '5', '8', '7']\n",
      "['1', '9', '8', '6', '5', '7', '4', '3', '2']\n",
      "['2', '5', '7', '4', '8', '3', '9', '1', '6']\n",
      "['6', '8', '9', '7', '3', '4', '1', '2', '5']\n",
      "['7', '1', '3', '5', '2', '8', '6', '9', '4']\n",
      "['5', '4', '2', '9', '1', '6', '3', '7', '8']\n"
     ]
    }
   ],
   "source": [
    "for i in range(0,9):\n",
    "    print(ans[i*9:i*9+9])"
   ]
  },
  {
   "cell_type": "code",
   "execution_count": 8,
   "metadata": {},
   "outputs": [
    {
     "name": "stdout",
     "output_type": "stream",
     "text": [
      "['8', '6', '4', '3', '7', '1', '2', '5', '9']\n",
      "['3', '2', '5', '8', '4', '9', '7', '6', '1']\n",
      "['9', '7', '1', '2', '6', '5', '8', '4', '3']\n",
      "['4', '3', '6', '1', '9', '2', '5', '8', '7']\n",
      "['1', '9', '8', '6', '5', '7', '4', '3', '2']\n",
      "['2', '5', '7', '4', '8', '3', '9', '1', '6']\n",
      "['6', '8', '9', '7', '3', '4', '1', '2', '5']\n",
      "['7', '1', '3', '5', '2', '8', '6', '9', '4']\n",
      "['5', '4', '2', '9', '1', '6', '3', '7', '8']\n"
     ]
    }
   ],
   "source": [
    "real_ans = get_answer(0)\n",
    "for i in range(0,9):\n",
    "    print(real_ans[i*9:i*9+9])"
   ]
  },
  {
   "cell_type": "code",
   "execution_count": 9,
   "metadata": {},
   "outputs": [
    {
     "data": {
      "text/plain": [
       "True"
      ]
     },
     "execution_count": 9,
     "metadata": {},
     "output_type": "execute_result"
    }
   ],
   "source": [
    "ans == real_ans"
   ]
  }
 ],
 "metadata": {
  "kernelspec": {
   "display_name": "Python 3",
   "language": "python",
   "name": "python3"
  },
  "language_info": {
   "codemirror_mode": {
    "name": "ipython",
    "version": 3
   },
   "file_extension": ".py",
   "mimetype": "text/x-python",
   "name": "python",
   "nbconvert_exporter": "python",
   "pygments_lexer": "ipython3",
   "version": "3.6.3"
  }
 },
 "nbformat": 4,
 "nbformat_minor": 2
}
